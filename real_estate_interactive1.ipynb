{
 "cells": [
  {
   "cell_type": "markdown",
   "id": "2865588f",
   "metadata": {},
   "source": [
    "# Real Estate Listing Scraper by ZIP Code"
   ]
  },
  {
   "cell_type": "markdown",
   "id": "4a183579",
   "metadata": {},
   "source": [
    "##  Team Members\n",
    "- Zhixi Lin (zl536)  \n",
    "- Seth Coward (sac484)  \n",
    "- Maryam Nasralla (mn688)  \n",
    "- Andrew Stevens (aes464)"
   ]
  },
  {
   "cell_type": "markdown",
   "id": "2fb54900",
   "metadata": {},
   "source": [
    "##  Project Overview\n",
    "This tool facilitates users to browse real estate properties in any U.S. ZIP code by harvesting live data from Redfin. The effort aims to make real estate information simpler to find, filter through, and save because Redfin doesn't have an open API.\n",
    "\n",
    "Results can be filtered by cost, bedrooms, baths, and square feet. The tool has an interactive interface and also has an option to export results in the form of CSV and JSON. Data collection occurs via web scraping with the aid of Python tools."
   ]
  },
  {
   "cell_type": "markdown",
   "id": "837bda4d",
   "metadata": {},
   "source": [
    "## Data Source and Collection\n",
    "The application uses web scraping to collect listing data from [Redfin.com](https://www.redfin.com). When a user enters a ZIP code, the system gathers all listings by navigating through pagination using `requests` and `BeautifulSoup`."
   ]
  },
  {
   "cell_type": "markdown",
   "id": "54098440",
   "metadata": {},
   "source": [
    "##  Data Structure and Design\n",
    "The collected data is stored in a **list of dictionaries**, where each dictionary contains:\n",
    "- `price`\n",
    "- `address`\n",
    "- `num_beds`\n",
    "- `num_baths`\n",
    "- `square_footage`\n",
    "- `contact_info`\n",
    "- `listing_url`"
   ]
  },
  {
   "cell_type": "markdown",
   "id": "a32b62cd",
   "metadata": {},
   "source": [
    "## Step 1: User Input\n",
    "This section takes ZIP code and filter settings from the user."
   ]
  },
  {
   "cell_type": "markdown",
   "id": "7d831411",
   "metadata": {},
   "source": [
    "##  Step 2: Data Collection from Redfin\n",
    "Collect listings using `get_all_listings()` function."
   ]
  },
  {
   "cell_type": "markdown",
   "id": "3711e76d",
   "metadata": {},
   "source": [
    "##  Step 3: Filter Listings\n",
    "Apply filtering logic using `filter_listings()` function."
   ]
  },
  {
   "cell_type": "markdown",
   "id": "7fb43a3a",
   "metadata": {},
   "source": [
    "##  Step 4: Save to File (CSV or JSON)\n",
    "Allow the user to export filtered listings."
   ]
  },
  {
   "cell_type": "markdown",
   "id": "db7b62a0",
   "metadata": {},
   "source": [
    "##  Example Output\n",
    "Display a few filtered results."
   ]
  },
  {
   "cell_type": "markdown",
   "id": "9d3685ba",
   "metadata": {},
   "source": [
    "##  Instructions for Use\n",
    "1. Run each cell in order.\n",
    "2. Enter filter options when prompted.\n",
    "3. View and save results."
   ]
  },
  {
   "cell_type": "markdown",
   "id": "79143f43",
   "metadata": {},
   "source": [
    "##  Summary\n",
    "This project demonstrates live scraping and filtering of Redfin real estate data using Python."
   ]
  },
  {
   "cell_type": "markdown",
   "id": "ebc4bae2",
   "metadata": {},
   "source": [
    "# Real Estate Scraper – Interactive Notebook\n",
    "This notebook lets you input ZIP code and filter real estate listings using Redfin, then save the results as CSV or JSON."
   ]
  },
  {
   "cell_type": "code",
   "execution_count": null,
   "id": "6549eb63",
   "metadata": {},
   "outputs": [],
   "source": [
    "\n",
    "import json\n",
    "import csv\n",
    "from scraper import get_all_listings, filter_listings\n"
   ]
  },
  {
   "cell_type": "code",
   "execution_count": null,
   "id": "51567ed8",
   "metadata": {},
   "outputs": [],
   "source": [
    "\n",
    "def save_output(listings, format_choice):\n",
    "    if format_choice == \"csv\":\n",
    "        with open(\"filtered_listings.csv\", \"w\", newline=\"\", encoding=\"utf-8\") as f:\n",
    "            writer = csv.DictWriter(f, fieldnames=listings[0].keys())\n",
    "            writer.writeheader()\n",
    "            writer.writerows(listings)\n",
    "        print(\"Saved to filtered_listings.csv\")\n",
    "    elif format_choice == \"json\":\n",
    "        with open(\"filtered_listings.json\", \"w\", encoding=\"utf-8\") as f:\n",
    "            json.dump(listings, f, indent=2)\n",
    "        print(\"Saved to filtered_listings.json\")\n",
    "    else:\n",
    "        print(\"Output not saved.\")\n"
   ]
  },
  {
   "cell_type": "code",
   "execution_count": null,
   "id": "7ce23fd8",
   "metadata": {},
   "outputs": [],
   "source": [
    "\n",
    "zip_code = input(\"Enter ZIP code: \")\n",
    "min_price = input(\"Minimum price (press Enter to skip): \")\n",
    "max_price = input(\"Maximum price (press Enter to skip): \")\n",
    "min_beds = input(\"Minimum number of bedrooms (press Enter to skip): \")\n",
    "max_beds = input(\"Maximum number of bedrooms (press Enter to skip): \")\n",
    "min_baths = input(\"Minimum number of bathrooms (press Enter to skip): \")\n",
    "max_baths = input(\"Maximum number of bathrooms (press Enter to skip): \")\n",
    "min_sqft = input(\"Minimum square footage (press Enter to skip): \")\n",
    "max_sqft = input(\"Maximum square footage (press Enter to skip): \")\n",
    "\n",
    "def parse_input(value): return float(value) if value.strip() != \"\" else None\n",
    "\n",
    "filters = {\n",
    "    \"zip_code\": zip_code,\n",
    "    \"min_price\": parse_input(min_price),\n",
    "    \"max_price\": parse_input(max_price),\n",
    "    \"min_beds\": parse_input(min_beds),\n",
    "    \"max_beds\": parse_input(max_beds),\n",
    "    \"min_baths\": parse_input(min_baths),\n",
    "    \"max_baths\": parse_input(max_baths),\n",
    "    \"min_sqft\": parse_input(min_sqft),\n",
    "    \"max_sqft\": parse_input(max_sqft)\n",
    "}\n"
   ]
  },
  {
   "cell_type": "code",
   "execution_count": null,
   "id": "b7391293",
   "metadata": {},
   "outputs": [],
   "source": [
    "\n",
    "listings = get_all_listings(filters[\"zip_code\"])\n",
    "filtered = filter_listings(listings,\n",
    "                           min_price=filters[\"min_price\"],\n",
    "                           max_price=filters[\"max_price\"],\n",
    "                           min_beds=filters[\"min_beds\"],\n",
    "                           max_beds=filters[\"max_beds\"],\n",
    "                           min_baths=filters[\"min_baths\"],\n",
    "                           max_baths=filters[\"max_baths\"],\n",
    "                           min_sqft=filters[\"min_sqft\"],\n",
    "                           max_sqft=filters[\"max_sqft\"])\n",
    "\n",
    "print(f\"Found {len(filtered)} matching listings.\")\n",
    "for item in filtered:\n",
    "    print(item)\n"
   ]
  },
  {
   "cell_type": "code",
   "execution_count": null,
   "id": "e546abcf",
   "metadata": {},
   "outputs": [],
   "source": [
    "\n",
    "output_format = input(\"Save results to file? (csv/json/none): \").lower()\n",
    "if filtered:\n",
    "    save_output(filtered, output_format)\n"
   ]
  }
 ],
 "metadata": {},
 "nbformat": 4,
 "nbformat_minor": 5
}
