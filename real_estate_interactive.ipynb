{
 "cells": [
  {
   "cell_type": "markdown",
   "id": "ebc4bae2",
   "metadata": {},
   "source": [
    "# Real Estate Scraper – Interactive Notebook\n",
    "This notebook lets you input ZIP code and filter real estate listings using Redfin, then save the results as CSV or JSON."
   ]
  },
  {
   "cell_type": "code",
   "execution_count": null,
   "id": "6549eb63",
   "metadata": {},
   "outputs": [],
   "source": [
    "\n",
    "import json\n",
    "import csv\n",
    "from scraper import get_all_listings, filter_listings\n"
   ]
  },
  {
   "cell_type": "code",
   "execution_count": null,
   "id": "51567ed8",
   "metadata": {},
   "outputs": [],
   "source": [
    "\n",
    "def save_output(listings, format_choice):\n",
    "    if format_choice == \"csv\":\n",
    "        with open(\"filtered_listings.csv\", \"w\", newline=\"\", encoding=\"utf-8\") as f:\n",
    "            writer = csv.DictWriter(f, fieldnames=listings[0].keys())\n",
    "            writer.writeheader()\n",
    "            writer.writerows(listings)\n",
    "        print(\"Saved to filtered_listings.csv\")\n",
    "    elif format_choice == \"json\":\n",
    "        with open(\"filtered_listings.json\", \"w\", encoding=\"utf-8\") as f:\n",
    "            json.dump(listings, f, indent=2)\n",
    "        print(\"Saved to filtered_listings.json\")\n",
    "    else:\n",
    "        print(\"Output not saved.\")\n"
   ]
  },
  {
   "cell_type": "code",
   "execution_count": null,
   "id": "7ce23fd8",
   "metadata": {},
   "outputs": [],
   "source": [
    "\n",
    "zip_code = input(\"Enter ZIP code: \")\n",
    "min_price = input(\"Minimum price (press Enter to skip): \")\n",
    "max_price = input(\"Maximum price (press Enter to skip): \")\n",
    "min_beds = input(\"Minimum number of bedrooms (press Enter to skip): \")\n",
    "max_beds = input(\"Maximum number of bedrooms (press Enter to skip): \")\n",
    "min_baths = input(\"Minimum number of bathrooms (press Enter to skip): \")\n",
    "max_baths = input(\"Maximum number of bathrooms (press Enter to skip): \")\n",
    "min_sqft = input(\"Minimum square footage (press Enter to skip): \")\n",
    "max_sqft = input(\"Maximum square footage (press Enter to skip): \")\n",
    "\n",
    "def parse_input(value): return float(value) if value.strip() != \"\" else None\n",
    "\n",
    "filters = {\n",
    "    \"zip_code\": zip_code,\n",
    "    \"min_price\": parse_input(min_price),\n",
    "    \"max_price\": parse_input(max_price),\n",
    "    \"min_beds\": parse_input(min_beds),\n",
    "    \"max_beds\": parse_input(max_beds),\n",
    "    \"min_baths\": parse_input(min_baths),\n",
    "    \"max_baths\": parse_input(max_baths),\n",
    "    \"min_sqft\": parse_input(min_sqft),\n",
    "    \"max_sqft\": parse_input(max_sqft)\n",
    "}\n"
   ]
  },
  {
   "cell_type": "code",
   "execution_count": null,
   "id": "b7391293",
   "metadata": {},
   "outputs": [],
   "source": [
    "\n",
    "listings = get_all_listings(filters[\"zip_code\"])\n",
    "filtered = filter_listings(listings,\n",
    "                           min_price=filters[\"min_price\"],\n",
    "                           max_price=filters[\"max_price\"],\n",
    "                           min_beds=filters[\"min_beds\"],\n",
    "                           max_beds=filters[\"max_beds\"],\n",
    "                           min_baths=filters[\"min_baths\"],\n",
    "                           max_baths=filters[\"max_baths\"],\n",
    "                           min_sqft=filters[\"min_sqft\"],\n",
    "                           max_sqft=filters[\"max_sqft\"])\n",
    "\n",
    "print(f\"Found {len(filtered)} matching listings.\")\n",
    "for item in filtered:\n",
    "    print(item)\n"
   ]
  },
  {
   "cell_type": "code",
   "execution_count": null,
   "id": "e546abcf",
   "metadata": {},
   "outputs": [],
   "source": [
    "\n",
    "output_format = input(\"Save results to file? (csv/json/none): \").lower()\n",
    "if filtered:\n",
    "    save_output(filtered, output_format)\n"
   ]
  }
 ],
 "metadata": {},
 "nbformat": 4,
 "nbformat_minor": 5
}
