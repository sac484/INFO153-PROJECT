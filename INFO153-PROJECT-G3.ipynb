{
 "cells": [
  {
   "cell_type": "code",
   "execution_count": 1,
   "id": "304c0d1c-4db7-4697-9e52-723c78296c4e",
   "metadata": {},
   "outputs": [
    {
     "name": "stdout",
     "output_type": "stream",
     "text": [
      "Requirement already satisfied: BeautifulSoup4 in /usr/lib/python3.13/site-packages (4.12.3)\n",
      "Requirement already satisfied: soupsieve>1.2 in /usr/lib/python3.13/site-packages (from BeautifulSoup4) (2.6)\n",
      "\u001b[33mWARNING: Running pip as the 'root' user can result in broken permissions and conflicting behaviour with the system package manager, possibly rendering your system unusable. It is recommended to use a virtual environment instead: https://pip.pypa.io/warnings/venv. Use the --root-user-action option if you know what you are doing and want to suppress this warning.\u001b[0m\u001b[33m\n",
      "\u001b[0mRequirement already satisfied: requests in /usr/lib/python3.13/site-packages (2.32.3)\n",
      "Requirement already satisfied: charset-normalizer<4,>=2 in /usr/lib/python3.13/site-packages (from requests) (3.4.1)\n",
      "Requirement already satisfied: idna<4,>=2.5 in /usr/lib/python3.13/site-packages (from requests) (3.10)\n",
      "Requirement already satisfied: urllib3<3,>=1.21.1 in /usr/lib/python3.13/site-packages (from requests) (2.4.0)\n",
      "\u001b[33mWARNING: Running pip as the 'root' user can result in broken permissions and conflicting behaviour with the system package manager, possibly rendering your system unusable. It is recommended to use a virtual environment instead: https://pip.pypa.io/warnings/venv. Use the --root-user-action option if you know what you are doing and want to suppress this warning.\u001b[0m\u001b[33m\n",
      "\u001b[0m"
     ]
    }
   ],
   "source": [
    "# Required packages\n",
    "\n",
    "!pip install BeautifulSoup4 --break-system-packages\n",
    "!pip install requests --break-system-packages"
   ]
  },
  {
   "cell_type": "code",
   "execution_count": 2,
   "id": "d63d583f-d295-4add-b124-6b2da318d5b0",
   "metadata": {},
   "outputs": [],
   "source": [
    "import requests\n",
    "from bs4 import BeautifulSoup, Comment\n",
    "import re\n",
    "import time"
   ]
  },
  {
   "cell_type": "code",
   "execution_count": 3,
   "id": "a8bb99d9-aff7-48b1-a771-6d345223fe83",
   "metadata": {},
   "outputs": [],
   "source": [
    "headers = {\n",
    "    \"user-agent\": \"Mozilla/5.0 (Windows NT 10.0; Win64; x64) AppleWebKit/537.36 (KHTML, like Gecko) Chrome/137.0.0.0 Safari/537.36\"\n",
    "}\n",
    "\n",
    "web_session = requests.Session()\n",
    "web_session.headers.update(headers)"
   ]
  },
  {
   "cell_type": "code",
   "execution_count": 4,
   "id": "0a5f9680-10d7-411a-8a51-c6b64975660c",
   "metadata": {},
   "outputs": [],
   "source": [
    "class Queue:\n",
    "    def __init__(self):\n",
    "        self.items = []\n",
    "\n",
    "    def is_empty(self):\n",
    "        return len(self.items) == 0\n",
    "\n",
    "    def enqueue(self, item):\n",
    "        self.items.insert(0, item)\n",
    "\n",
    "    def dequeue(self):\n",
    "        return self.items.pop()\n",
    "\n",
    "    def size(self):\n",
    "        return len(self.items)"
   ]
  },
  {
   "cell_type": "code",
   "execution_count": 5,
   "id": "04f0eb83-0653-4268-89db-55d769eee170",
   "metadata": {},
   "outputs": [],
   "source": [
    "def get_all_page_urls(zip_code):\n",
    "    url_queue = Queue()\n",
    "    \n",
    "    base_url = f\"https://www.redfin.com/zipcode/{zip_code}/\"\n",
    "    \n",
    "    page_regex = re.compile(\"Viewing page \\\\d+ of (\\\\d+)\")\n",
    "\n",
    "    request = web_session.get(base_url)\n",
    "    if request.status_code != 200:\n",
    "        return url_queue\n",
    "    \n",
    "    html_body = request.text\n",
    "    page = BeautifulSoup(html_body)\n",
    "    element = page.find(\"span\", attrs={\"data-rf-test-name\": \"download-and-save-page-number-text\"})\n",
    "    \n",
    "    regex_result = page_regex.search(element.get_text())\n",
    "    if regex_result == None:\n",
    "        return url_queue\n",
    "\n",
    "    url_queue.enqueue(base_url)\n",
    "    \n",
    "    max_page = int(regex_result.group(1))\n",
    "\n",
    "    if max_page > 1:\n",
    "        for i in range(2, max_page + 1):\n",
    "            url_queue.enqueue(f\"{base_url}page-{i}\")\n",
    "\n",
    "    return url_queue"
   ]
  },
  {
   "cell_type": "code",
   "execution_count": 6,
   "id": "fd3cfbcf-2923-43d4-9588-3b70276d2794",
   "metadata": {},
   "outputs": [],
   "source": [
    "def get_all_listings(zip_code):\n",
    "    page_url_queue = get_all_page_urls(zip_code)\n",
    "    number_regex = re.compile(\"^(?:\\\\d|\\\\.)+\")\n",
    "    \n",
    "    all_listings = []\n",
    "    \n",
    "    while not page_url_queue.is_empty():\n",
    "        url = page_url_queue.dequeue()\n",
    "        html_body = web_session.get(url).text\n",
    "        page = BeautifulSoup(html_body)\n",
    "\n",
    "        for listing_card in page.find_all(\"div\", class_=\"HomeCardContainer\"):\n",
    "            if listing_card.get(\"aria-label\") and listing_card[\"aria-label\"] == \"Advertisement\":\n",
    "                continue\n",
    "\n",
    "            listing_href = listing_card.find(\"a\", href=True, class_=\"bp-InteractiveHomecard\")[\"href\"]\n",
    "            price = listing_card.find(\"span\", class_=\"bp-Homecard__Price--value\").text\n",
    "            price = float(price[1:].replace(\",\", \"\"))\n",
    "            \n",
    "            address = listing_card.find(\"div\", class_=\"bp-Homecard__Address\").string\n",
    "            \n",
    "            num_beds = listing_card.find(\"span\", class_=\"bp-Homecard__Stats--beds\").string.split(\" \")[0]\n",
    "            if num_beds == \"—\":\n",
    "                continue\n",
    "            else:\n",
    "                num_beds = float(num_beds)\n",
    "\n",
    "            num_baths = listing_card.find(\"span\", class_=\"bp-Homecard__Stats--baths\").string.split(\" \")[0]\n",
    "            if num_baths == \"—\":\n",
    "                continue\n",
    "            else:\n",
    "                num_baths = float(num_baths)\n",
    "\n",
    "            square_footage = listing_card.find(\"span\", class_=\"bp-Homecard__Stats--sqft\").find_all(string=True)[0]\n",
    "            if square_footage in [\"—\", \"sq ft\"]:\n",
    "                continue\n",
    "            else:\n",
    "                square_footage = float(square_footage.replace(\",\", \"\"))\n",
    "            \n",
    "            try:\n",
    "                contact_info = listing_card.find(\"div\", class_=\"bp-Homecard__Attribution\").string\n",
    "            except AttributeError:\n",
    "                contact_info = \"See listing via URL\"\n",
    "\n",
    "            listing_info = {\n",
    "                \"listing_url\": f\"https://redfin.com{listing_href}\",\n",
    "                \"price\": price,\n",
    "                \"address\": address,\n",
    "                \"num_beds\": num_beds,\n",
    "                \"num_baths\": num_baths,\n",
    "                \"square_footage\": square_footage,\n",
    "                \"contact_info\": contact_info\n",
    "            }\n",
    "\n",
    "            all_listings.append(listing_info)\n",
    "        time.sleep(1)\n",
    "\n",
    "    return all_listings"
   ]
  },
  {
   "cell_type": "code",
   "execution_count": 7,
   "id": "1ff06f4c-d1a0-4f44-9d3d-363d7ee2bedb",
   "metadata": {},
   "outputs": [],
   "source": [
    "def filter_listings(all_listings, min_price=None, max_price=None, min_beds=None, max_beds=None, min_baths=None, max_baths=None, min_sqft=None, max_sqft=None):\n",
    "    filtered_listings = []\n",
    "    for listing in all_listings:\n",
    "        conditions = [\n",
    "            (min_price is None or listing[\"price\"] >= min_price),\n",
    "            (max_price is None or listing[\"price\"] <= max_price),\n",
    "            (min_beds is None or listing[\"num_beds\"] >= min_beds),\n",
    "            (max_beds is None or listing[\"num_beds\"] <= max_beds),\n",
    "            (min_baths is None or listing[\"num_baths\"] >= min_baths),\n",
    "            (max_baths is None or listing[\"num_baths\"] <= max_baths),\n",
    "            (min_sqft is None or listing[\"square_footage\"] >= min_sqft),\n",
    "            (max_sqft is None or listing[\"square_footage\"] <= max_sqft)\n",
    "        ]\n",
    "\n",
    "        if all(conditions):\n",
    "            filtered_listings.append(listing)\n",
    "\n",
    "    return filtered_listings"
   ]
  },
  {
   "cell_type": "code",
   "execution_count": 8,
   "id": "546cd4f1-bd2e-437a-8709-121473da7bce",
   "metadata": {},
   "outputs": [
    {
     "name": "stdout",
     "output_type": "stream",
     "text": [
      "[{'listing_url': 'https://redfin.com/PA/Philadelphia/706-N-Shedwick-St-19104/home/38669915', 'price': 139900.0, 'address': '706 N Shedwick St, Philadelphia, PA 19104', 'num_beds': 2.0, 'num_baths': 1.0, 'square_footage': 840.0, 'contact_info': '(215) 921-9053'}, {'listing_url': 'https://redfin.com/PA/Philadelphia/3833-Wyalusing-Ave-19104/home/38673323', 'price': 95000.0, 'address': '3833 Wyalusing Ave, Philadelphia, PA 19104', 'num_beds': 3.0, 'num_baths': 1.0, 'square_footage': 1010.0, 'contact_info': '(610) 520-0100'}, {'listing_url': 'https://redfin.com/PA/Philadelphia/3976-Wyalusing-Ave-19104/home/38673332', 'price': 150000.0, 'address': '3976 Wyalusing Ave, Philadelphia, PA 19104', 'num_beds': 3.0, 'num_baths': 1.0, 'square_footage': 876.0, 'contact_info': '(610) 679-9170'}, {'listing_url': 'https://redfin.com/PA/Philadelphia/3854-Reno-St-19104/home/38670012', 'price': 99999.0, 'address': '3854 Reno St, Philadelphia, PA 19104', 'num_beds': 4.0, 'num_baths': 1.0, 'square_footage': 1008.0, 'contact_info': '(844) 837-5274'}, {'listing_url': 'https://redfin.com/PA/Philadelphia/4050-Cambridge-St-19104/home/38192872', 'price': 94900.0, 'address': '4050 Cambridge St, Philadelphia, PA 19104', 'num_beds': 3.0, 'num_baths': 1.0, 'square_footage': 1140.0, 'contact_info': '(215) 400-2600'}, {'listing_url': 'https://redfin.com/PA/Philadelphia/818-N-42nd-St-19104/home/38195766', 'price': 150000.0, 'address': '818 N 42nd St, Philadelphia, PA 19104', 'num_beds': 3.0, 'num_baths': 1.0, 'square_footage': 784.0, 'contact_info': '(844) 837-5274'}, {'listing_url': 'https://redfin.com/PA/Philadelphia/855-N-Brooklyn-St-19104/home/38195691', 'price': 150000.0, 'address': '855 N Brooklyn St, Philadelphia, PA 19104', 'num_beds': 3.0, 'num_baths': 1.0, 'square_footage': 1076.0, 'contact_info': '(610) 520-0100'}, {'listing_url': 'https://redfin.com/PA/Philadelphia/851-N-43rd-St-19104/home/38195831', 'price': 149000.0, 'address': '851 N 43rd St, Philadelphia, PA 19104', 'num_beds': 2.0, 'num_baths': 1.0, 'square_footage': 1286.0, 'contact_info': '(215) 248-4400'}, {'listing_url': 'https://redfin.com/PA/Philadelphia/907-N-45th-St-19104/home/38195981', 'price': 110000.0, 'address': '907 N 45th St, Philadelphia, PA 19104', 'num_beds': 3.0, 'num_baths': 1.0, 'square_footage': 784.0, 'contact_info': '(215) 757-6100'}]\n"
     ]
    }
   ],
   "source": [
    "listings_example = get_all_listings(\"19104\")\n",
    "print(filter_listings(listings_example, max_price=150000))"
   ]
  },
  {
   "cell_type": "code",
   "execution_count": null,
   "id": "80d609fa-17c2-4744-a8e9-8a2eed614ebb",
   "metadata": {},
   "outputs": [],
   "source": []
  }
 ],
 "metadata": {
  "kernelspec": {
   "display_name": "Python 3 (ipykernel)",
   "language": "python",
   "name": "python3"
  },
  "language_info": {
   "codemirror_mode": {
    "name": "ipython",
    "version": 3
   },
   "file_extension": ".py",
   "mimetype": "text/x-python",
   "name": "python",
   "nbconvert_exporter": "python",
   "pygments_lexer": "ipython3",
   "version": "3.13.2"
  }
 },
 "nbformat": 4,
 "nbformat_minor": 5
}
