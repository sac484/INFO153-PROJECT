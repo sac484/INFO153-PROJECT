{
 "cells": [
  {
   "cell_type": "markdown",
   "id": "a3f296e8-7333-400d-ac85-ab11e64631ec",
   "metadata": {},
   "source": [
    "# Redfin Real Estate Listing Scraper"
   ]
  },
  {
   "cell_type": "markdown",
   "id": "f818d094-e44e-4cf4-88f2-ffc449b1138e",
   "metadata": {},
   "source": [
    "##  Team Members\n",
    "- Zhixi Lin (zl536)  \n",
    "- Seth Coward (sac484)  \n",
    "- Maryam Nasralla (mn688)  \n",
    "- Andrew Stevens (aes464)\n",
    "- Jason Chew (jc4768)"
   ]
  },
  {
   "cell_type": "markdown",
   "id": "ccfc69ad-38e4-4c90-93af-a8c13371fdba",
   "metadata": {},
   "source": [
    "##  Project Overview\n",
    "Our project is a tool that enables users to enter a zip code of their choice and search, filter, and save information about various real estate listings on the popular site Redfin. Rather than scrolling through each page of their website and writing down listings into an Excel sheet or on paper, our tool allows users to filter for the data they want and then save it to a format like CSV or JSON for better use later. We were specifically targeting average home buyers and real estate professionals for this tool as this provides the easiest way for them to gather this data since Redfin doesn't have a public API for gathering this kind of data.\n",
    "\n",
    "Our tool starts off by first gathering the zip code that needs to be searched for by the user. Then, using our algorithm, it will go to the Redfin website, gather how many pages of results there are, and load them into a queue to be scanned. Then, using that queue, our algorithm parses the data on each available listing, excluding listings that are missing pieces of information, and stores the results in a variable. Then, it asks the user about a handful of different filters that they would like to use, including setting a minimum and maximum price, minimum and maximum square footage, etc. Finally, it will print out the results to the screen for the user to see and then it will ask them if they want to save it in a common format like CSV or JSON. If the user selects one of these formats, it will save the file in its respective format, leaving the user with their results."
   ]
  },
  {
   "cell_type": "markdown",
   "id": "e77bc35e-607a-45f5-8783-911d1603f4fa",
   "metadata": {},
   "source": [
    "## 1. Install Required Packages for the Tool\n",
    "Includes the pip commands required to install \"BeautifulSoup\" for easier HTML parsing and \"requests\" for better communication with websites"
   ]
  },
  {
   "cell_type": "code",
   "execution_count": 1,
   "id": "304c0d1c-4db7-4697-9e52-723c78296c4e",
   "metadata": {},
   "outputs": [
    {
     "name": "stdout",
     "output_type": "stream",
     "text": [
      "Requirement already satisfied: BeautifulSoup4 in /usr/lib/python3.13/site-packages (4.12.3)\n",
      "Requirement already satisfied: soupsieve>1.2 in /usr/lib/python3.13/site-packages (from BeautifulSoup4) (2.6)\n",
      "\u001b[33mWARNING: Running pip as the 'root' user can result in broken permissions and conflicting behaviour with the system package manager, possibly rendering your system unusable. It is recommended to use a virtual environment instead: https://pip.pypa.io/warnings/venv. Use the --root-user-action option if you know what you are doing and want to suppress this warning.\u001b[0m\u001b[33m\n",
      "\u001b[0mRequirement already satisfied: requests in /usr/lib/python3.13/site-packages (2.32.3)\n",
      "Requirement already satisfied: charset-normalizer<4,>=2 in /usr/lib/python3.13/site-packages (from requests) (3.4.1)\n",
      "Requirement already satisfied: idna<4,>=2.5 in /usr/lib/python3.13/site-packages (from requests) (3.10)\n",
      "Requirement already satisfied: urllib3<3,>=1.21.1 in /usr/lib/python3.13/site-packages (from requests) (2.4.0)\n",
      "\u001b[33mWARNING: Running pip as the 'root' user can result in broken permissions and conflicting behaviour with the system package manager, possibly rendering your system unusable. It is recommended to use a virtual environment instead: https://pip.pypa.io/warnings/venv. Use the --root-user-action option if you know what you are doing and want to suppress this warning.\u001b[0m\u001b[33m\n",
      "\u001b[0m"
     ]
    }
   ],
   "source": [
    "# Required packages\n",
    "!pip install BeautifulSoup4 --break-system-packages\n",
    "!pip install requests --break-system-packages"
   ]
  },
  {
   "cell_type": "markdown",
   "id": "5e570f68-fca3-489e-acda-037522126dcd",
   "metadata": {},
   "source": [
    "## 2. Import Modules/Packages\n",
    "These are packages that are required for the script. We use \"requests\" for making HTTP web requests to the Redfin website. Then \"BeautifulSoup\" and \"re\" for HTML parsing and regex usage. We use the \"time\" package for managing the timing between requests to the Redfin website. Finally, we use the \"csv\" and \"json\" modules for managing the outputs of the data."
   ]
  },
  {
   "cell_type": "code",
   "execution_count": 2,
   "id": "d63d583f-d295-4add-b124-6b2da318d5b0",
   "metadata": {},
   "outputs": [],
   "source": [
    "import requests\n",
    "from bs4 import BeautifulSoup\n",
    "import re\n",
    "import time\n",
    "import csv\n",
    "import json"
   ]
  },
  {
   "cell_type": "markdown",
   "id": "a71034a3-e980-4989-bfc3-906574610ac4",
   "metadata": {},
   "source": [
    "## 3. Set Up Web Session\n",
    "To be able to communicate with and read the Redfin website, we set up a web session using the \"requests\" package with the proper headers needed to load the pages. This is set up globally so that any of our functions can use it."
   ]
  },
  {
   "cell_type": "code",
   "execution_count": 3,
   "id": "a8bb99d9-aff7-48b1-a771-6d345223fe83",
   "metadata": {},
   "outputs": [],
   "source": [
    "# Headers to make the request look like a browser request\n",
    "headers = {\n",
    "    \"user-agent\": \"Mozilla/5.0 (Windows NT 10.0; Win64; x64) AppleWebKit/537.36 (KHTML, like Gecko) Chrome/137.0.0.0 Safari/537.36\"\n",
    "}\n",
    "\n",
    "# Create a web session\n",
    "web_session = requests.Session()\n",
    "\n",
    "# Add the browser headers\n",
    "web_session.headers.update(headers)"
   ]
  },
  {
   "cell_type": "markdown",
   "id": "5453979c-ecd0-43d9-a071-aa1108952cc0",
   "metadata": {},
   "source": [
    "## 4. Define Queue Class and Function\n",
    "Prepare the definitions for the Queue class to be utilized later"
   ]
  },
  {
   "cell_type": "code",
   "execution_count": 4,
   "id": "0a5f9680-10d7-411a-8a51-c6b64975660c",
   "metadata": {},
   "outputs": [],
   "source": [
    "class Queue:\n",
    "    # sac484\n",
    "    # This class is for implementing a queue abstract data type as a data structure\n",
    "    # It conatins methods:\n",
    "    #     is_empty(): Checks if the queue is empty and returns a boolean accordingly\n",
    "    #     enqueue(item): Adds an item to the back of the queue\n",
    "    #     dequeue(): Removes and returns the item from the front of the queue\n",
    "    #     size(): Returns the size of the queue\n",
    "\n",
    "    # Constructor for queue\n",
    "    def __init__(self):\n",
    "        self.items = []\n",
    "\n",
    "    # Checks if the queue is empty\n",
    "    def is_empty(self):\n",
    "        return len(self.items) == 0\n",
    "\n",
    "    # Adds an item to the back of the queue\n",
    "    def enqueue(self, item):\n",
    "        self.items.insert(0, item)\n",
    "\n",
    "    # Removes and returns an item from the front of the queue\n",
    "    def dequeue(self):\n",
    "        return self.items.pop()\n",
    "\n",
    "    # Returns the current size of the queue\n",
    "    def size(self):\n",
    "        return len(self.items)"
   ]
  },
  {
   "cell_type": "markdown",
   "id": "513efec8-aaaa-4b3a-9edd-d5cf297aed30",
   "metadata": {},
   "source": [
    "## 5. Define get_all_page_urls Function\n",
    "Prepare the get_all_page_urls function that will create a queue of URLs based on a given zip code, which will be used later for scanning and parsing. There are some different checks in place here to make sure the proper results are expected, such as proper status codes and HTML element parsing."
   ]
  },
  {
   "cell_type": "code",
   "execution_count": 5,
   "id": "04f0eb83-0653-4268-89db-55d769eee170",
   "metadata": {},
   "outputs": [],
   "source": [
    "def get_all_page_urls(zip_code):\n",
    "    # sac484\n",
    "    # This function returns a queue of strings that includes all URLs for\n",
    "    # pages that have real estate listings in a given zip code\n",
    "    #\n",
    "    # Parameters:\n",
    "    # zip_code (string): the zip code to be searched in\n",
    "    #\n",
    "    # Returns:\n",
    "    # A queue of zero or more URLs to be searched through\n",
    "\n",
    "    # Create an empty queue\n",
    "    url_queue = Queue()\n",
    "\n",
    "    # Define a variable for the base Redfin URL for the zip code\n",
    "    base_url = f\"https://www.redfin.com/zipcode/{zip_code}/\"\n",
    "\n",
    "    # Define regex used to parse the max number of pages of listings\n",
    "    page_regex = re.compile(\"Viewing page \\\\d+ of (\\\\d+)\")\n",
    "\n",
    "    # Get the content of the first page of listings\n",
    "    request = web_session.get(base_url)\n",
    "    # Return the empty queue if there was an issue with the page\n",
    "    if request.status_code != 200:\n",
    "        return url_queue\n",
    "\n",
    "    # Create a BeautifulSoup HTML object out of the page content\n",
    "    html_body = request.text\n",
    "    page = BeautifulSoup(html_body, \"html.parser\")\n",
    "\n",
    "    # Parse through the page content and find the text listing the max number of pages\n",
    "    element = page.find(\"span\", attrs={\"data-rf-test-name\": \"download-and-save-page-number-text\"})\n",
    "    # Return the empty queue if there was an issue getting the required text\n",
    "    if element == None:\n",
    "        return url_queue\n",
    "\n",
    "    # Parse the max number of pages from the element text\n",
    "    regex_result = page_regex.search(element.get_text())\n",
    "    # Return the empty queue if there was a parsing issue\n",
    "    if regex_result == None:\n",
    "        return url_queue\n",
    "\n",
    "    # Add the base URL to the queue to be searched\n",
    "    url_queue.enqueue(base_url)\n",
    "\n",
    "    # Create an integer variable out of the capture max number of pages\n",
    "    max_page = int(regex_result.group(1))\n",
    "\n",
    "    # If there is more than one page, add each subsequent URL after the first page to the queue\n",
    "    if max_page > 1:\n",
    "        for i in range(2, max_page + 1):\n",
    "            url_queue.enqueue(f\"{base_url}page-{i}\")\n",
    "\n",
    "    # Return the URL queue\n",
    "    return url_queue"
   ]
  },
  {
   "cell_type": "markdown",
   "id": "8003e326-5278-440d-bb4c-c7b8dbe430fe",
   "metadata": {},
   "source": [
    "## 6. Define get_all_listings Function\n",
    "Prepare the get_all_listings function that will utilize a queue of URLs, crawl each page, and parse the required data for each real estate listing. Checks are put in place here to exclude listings that are missing certain required information like how much they cost, how many bedrooms or bathrooms they have, etc."
   ]
  },
  {
   "cell_type": "code",
   "execution_count": 6,
   "id": "fd3cfbcf-2923-43d4-9588-3b70276d2794",
   "metadata": {},
   "outputs": [],
   "source": [
    "def get_all_listings(zip_code):\n",
    "    # sac484\n",
    "    # This function returns a list of dictionaries that each contain data\n",
    "    # about the real estate listings in the given zip code\n",
    "    #\n",
    "    # Parameters:\n",
    "    # zip_code (string): the zip code to be searched in\n",
    "    #\n",
    "    # Returns:\n",
    "    # A list of dictionaries, each with information about the listing including\n",
    "    # the listing_url, price, address, num_beds, num_baths, square_footage, and contact_info\n",
    "\n",
    "    # Get a queue of URls to be searched for the zip code\n",
    "    page_url_queue = get_all_page_urls(zip_code)\n",
    "\n",
    "    # Create an empty variable for the resulting listings\n",
    "    all_listings = []\n",
    "\n",
    "    # While there are no more URLs to parse\n",
    "    while not page_url_queue.is_empty():\n",
    "        # Get the next URL\n",
    "        url = page_url_queue.dequeue()\n",
    "        # Get its HTML body content\n",
    "        html_body = web_session.get(url).text\n",
    "        # Create a BeautifulSoup object out of the HTML body content\n",
    "        page = BeautifulSoup(html_body, \"html.parser\")\n",
    "\n",
    "        # For every listing card on the page\n",
    "        for listing_card in page.find_all(\"div\", class_=\"HomeCardContainer\"):\n",
    "            try:\n",
    "                # Skip the card if its an in-page advertisement\n",
    "                if listing_card.get(\"aria-label\") and listing_card[\"aria-label\"] == \"Advertisement\":\n",
    "                    continue\n",
    "\n",
    "                # Capture the URL for its listing page\n",
    "                listing_href = listing_card.find(\"a\", href=True, class_=\"bp-InteractiveHomecard\")[\"href\"]\n",
    "\n",
    "                # Capture the price for the listing\n",
    "                price = listing_card.find(\"span\", class_=\"bp-Homecard__Price--value\").text\n",
    "                # Skip the listing if its unknown\n",
    "                if price == \"Unknown\":\n",
    "                    continue\n",
    "                else:\n",
    "                    # Clean the string of commas and dollar signs and turn it into a float\n",
    "                    price = float(price[1:].replace(\",\", \"\"))\n",
    "\n",
    "                # Capture the address for the listing\n",
    "                address = listing_card.find(\"div\", class_=\"bp-Homecard__Address\").string\n",
    "\n",
    "                # Capture the number of beds on the listing\n",
    "                num_beds = listing_card.find(\"span\", class_=\"bp-Homecard__Stats--beds\").string.split(\" \")[0]\n",
    "                # Skip the listing if they aren't listed\n",
    "                if num_beds == \"—\":\n",
    "                    continue\n",
    "                else:\n",
    "                    # Turn the value into a float\n",
    "                    num_beds = float(num_beds)\n",
    "\n",
    "                # Capture the number of baths on the listing\n",
    "                num_baths = listing_card.find(\"span\", class_=\"bp-Homecard__Stats--baths\").string.split(\" \")[0]\n",
    "                # Skip the listing if they aren't listed\n",
    "                if num_baths == \"—\":\n",
    "                    continue\n",
    "                else:\n",
    "                    # Turn the value into a float\n",
    "                    num_baths = float(num_baths)\n",
    "\n",
    "                # Capture the square footage of the listing\n",
    "                square_footage = listing_card.find(\"span\", class_=\"bp-Homecard__Stats--sqft\").find_all(string=True)[0]\n",
    "                # Skip the listing if it isn't listed\n",
    "                if square_footage in [\"—\", \"sq ft\"]:\n",
    "                    continue\n",
    "                else:\n",
    "                    # Clean the string of commas and turn it into a float\n",
    "                    square_footage = float(square_footage.replace(\",\", \"\"))\n",
    "\n",
    "                # Capture the contact info on the listing\n",
    "                try:\n",
    "                    contact_info = listing_card.find(\"div\", class_=\"bp-Homecard__Attribution\").string\n",
    "                except AttributeError:\n",
    "                    # Tell the user to check the listing for more info if it isn't available\n",
    "                    contact_info = \"See listing via URL\"\n",
    "\n",
    "            except:\n",
    "                continue\n",
    "\n",
    "            # Combine all of the capture information into an easily readable dictionary\n",
    "            listing_info = {\n",
    "                \"listing_url\": f\"https://redfin.com{listing_href}\",\n",
    "                \"price\": price,\n",
    "                \"address\": address,\n",
    "                \"num_beds\": num_beds,\n",
    "                \"num_baths\": num_baths,\n",
    "                \"square_footage\": square_footage,\n",
    "                \"contact_info\": contact_info\n",
    "            }\n",
    "\n",
    "            # Add the listing to the list of all listings\n",
    "            all_listings.append(listing_info)\n",
    "        # Wait one second in between requests to not overload the web page\n",
    "        time.sleep(1)\n",
    "\n",
    "    # Return all of the captured listings\n",
    "    return all_listings"
   ]
  },
  {
   "cell_type": "markdown",
   "id": "367a4d55-3947-44bc-98ff-eb03a5411662",
   "metadata": {},
   "source": [
    "## 7. Define filter_listings Function\n",
    "Prepare the filter_listings function that will be used in combination with the output from the get_all_listings function to filter the results based on a given set of criteria from the user."
   ]
  },
  {
   "cell_type": "code",
   "execution_count": 7,
   "id": "1ff06f4c-d1a0-4f44-9d3d-363d7ee2bedb",
   "metadata": {},
   "outputs": [],
   "source": [
    "def filter_listings(all_listings, filters):\n",
    "    # sac484\n",
    "    # This function will filter the list of listing dictionaries based on\n",
    "    # the provided dictionary of filters\n",
    "    #\n",
    "    # Parameters:\n",
    "    # all_listings (list): the list of dictionaries of listings\n",
    "    # filters (dict): the dictionary of filters to filter on\n",
    "    #\n",
    "    # Returns:\n",
    "    # The resulting list of dictionaries following the application of filters\n",
    "\n",
    "    # If there are no filters to be applied, just return the original list\n",
    "    if all(filter == None for filter in list(filters.values())):\n",
    "        return all_listings\n",
    "\n",
    "    # Create an empty list for the filtered listings\n",
    "    filtered_listings = []\n",
    "    # For every listing in the list\n",
    "    for listing in all_listings:\n",
    "        # Check if each filter exists in the dictionary and is set to none. If it does exist\n",
    "        # compare it to its value in the listing and set a boolean depending on if the criteria\n",
    "        # matches\n",
    "        conditions = [\n",
    "            (filters.get(\"min_price\") is None or listing[\"price\"] >= filters[\"min_price\"]),\n",
    "            (filters.get(\"max_price\") is None or listing[\"price\"] <= filters[\"max_price\"]),\n",
    "            (filters.get(\"min_beds\") is None or listing[\"num_beds\"] >= filters[\"min_beds\"]),\n",
    "            (filters.get(\"max_beds\") is None or listing[\"num_beds\"] <= filters[\"max_beds\"]),\n",
    "            (filters.get(\"min_baths\") is None or listing[\"num_baths\"] >= filters[\"min_baths\"]),\n",
    "            (filters.get(\"max_baths\") is None or listing[\"num_baths\"] <= filters[\"max_baths\"]),\n",
    "            (filters.get(\"min_sqft\") is None or listing[\"square_footage\"] >= filters[\"min_sqft\"]),\n",
    "            (filters.get(\"max_sqft\") is None or listing[\"square_footage\"] <= filters[\"max_sqft\"])\n",
    "        ]\n",
    "\n",
    "        # If all conditions are meet, meaning all values are set to True in the list, add\n",
    "        # the listing to the filtered list\n",
    "        if all(conditions):\n",
    "            filtered_listings.append(listing)\n",
    "\n",
    "    # Return the list of filtered listings\n",
    "    return filtered_listings"
   ]
  },
  {
   "cell_type": "markdown",
   "id": "e6989f01-599d-47f9-8d9f-a25b8132c5d8",
   "metadata": {},
   "source": [
    "## 8. Define input_with_type Function\n",
    "Prepare the input_with_type function that will be used to better parse the information given by the user and return it in a proper Python type rather than just a string."
   ]
  },
  {
   "cell_type": "code",
   "execution_count": 8,
   "id": "d2870c36-fc5b-4a4f-8197-8b7ddcfd8946",
   "metadata": {},
   "outputs": [],
   "source": [
    "def input_with_type(prompt, value_type):\n",
    "    # sac484\n",
    "    # This function returns the value that a user gives for a given prompt but\n",
    "    # as the specific data type that was provided\n",
    "    #\n",
    "    # Parameters:\n",
    "    # prompt (string): the prompt to ask the user\n",
    "    # value_type (type): the type that user-input should be converted to\n",
    "    #\n",
    "    # Returns:\n",
    "    # None if the user enters a blank string,\n",
    "    # otherwise the resulting input from the user as the provided data type\n",
    "\n",
    "    # Loop to keep asking the user the question\n",
    "    while True:\n",
    "        # Capture the response of the prompt and strip any spaces\n",
    "        response = input(prompt).strip()\n",
    "\n",
    "        # If the user provided a blank response, return None\n",
    "        if response == \"\":\n",
    "            response = None\n",
    "            break\n",
    "\n",
    "        try:\n",
    "            # Convert the user input to the provided data type\n",
    "            response = value_type(response)\n",
    "            break\n",
    "        except:\n",
    "            # If the user didn't give a proper value and there was an error in\n",
    "            # conversion, prompt the user to enter a proper value\n",
    "            print(\"Please enter a proper value!\")\n",
    "\n",
    "    # Return the resulting converted value\n",
    "    return response"
   ]
  },
  {
   "cell_type": "markdown",
   "id": "edeb6319-633a-48b0-81f6-21f15f3ebe6a",
   "metadata": {},
   "source": [
    "## 9. Define save_output Function\n",
    "Define the save_output function that will be used to output the final real estate listings to either a CSV or JSON file if the user so chooses after filtering the listings."
   ]
  },
  {
   "cell_type": "code",
   "execution_count": 9,
   "id": "80d609fa-17c2-4744-a8e9-8a2eed614ebb",
   "metadata": {},
   "outputs": [],
   "source": [
    "def save_output(listings, format_choice):\n",
    "    # zl536\n",
    "    # This function will output the provided listings to either a\n",
    "    # CSV or JSON file, or do nothing at all depending on the format choice\n",
    "    #\n",
    "    # Parameters:\n",
    "    # listings (list): the list of listings to be saved\n",
    "    # format_choice (string): the format to be saved in\n",
    "    #\n",
    "    # Returns:\n",
    "    # Nothing\n",
    "\n",
    "    # If the user chose CSV\n",
    "    if format_choice == \"csv\":\n",
    "        # Open the filtered_listings.csv file in writing mode\n",
    "        with open(\"filtered_listings.csv\", \"w\", newline=\"\", encoding=\"utf-8\") as f:\n",
    "            # Create a DictWriter object out of the file\n",
    "            writer = csv.DictWriter(f, fieldnames=listings[0].keys())\n",
    "            # Write the headers to the file\n",
    "            writer.writeheader()\n",
    "            # Write each row to the file\n",
    "            writer.writerows(listings)\n",
    "        # Print that the results were saved to the filtered_listings.csv file\n",
    "        print(\"Saved to filtered_listings.csv\")\n",
    "\n",
    "    # If the user chose JSON\n",
    "    elif format_choice == \"json\":\n",
    "        # Open the filtered_listings.json file in writing mode\n",
    "        with open(\"filtered_listings.json\", \"w\", encoding=\"utf-8\") as f:\n",
    "            # Dump the list of dictionaries to the json file\n",
    "            json.dump(listings, f, indent=2)\n",
    "        # Print that the results were saved to the filtered_listings.json file\n",
    "        print(\"Saved to filtered_listings.json\")\n",
    "\n",
    "    # If the user chose anything else\n",
    "    else:\n",
    "        # Print that the output was not saved\n",
    "        print(\"Output not saved.\")"
   ]
  },
  {
   "cell_type": "markdown",
   "id": "717d8d37-52ab-4789-974d-dbc1d6c2060f",
   "metadata": {},
   "source": [
    "## 10. Retrieve Zip Code from User and Get Listings\n",
    "Get input from the user to get what zip code they want to search for listings in. Then, utilize the get_all_listings function to get all of the available listings in that zip code. However, if the user types in an invalid zip code or one that doesn't have any listings in it, it will keep asking them to enter a different zip code."
   ]
  },
  {
   "cell_type": "code",
   "execution_count": 10,
   "id": "cbc0e0a1-d5e3-4643-a079-cb3752e091e2",
   "metadata": {},
   "outputs": [
    {
     "name": "stdin",
     "output_type": "stream",
     "text": [
      "Enter ZIP code:  19104\n"
     ]
    },
    {
     "name": "stdout",
     "output_type": "stream",
     "text": [
      "Gathering listings...Done\n"
     ]
    }
   ],
   "source": [
    "# While loop to keep asking the question to the user\n",
    "while True:\n",
    "    # Capture the zip code from the user and strip any extra spaces\n",
    "    zip_code = input(\"Enter ZIP code: \").strip()\n",
    "\n",
    "    # Get all listings in the zip code and print the status to the user\n",
    "    print(\"Gathering listings...\", end=\"\")\n",
    "    listings = get_all_listings(zip_code)\n",
    "    print(\"Done\")\n",
    "\n",
    "    # If no listings in that zip code were found\n",
    "    if len(listings) == 0:\n",
    "        # Ask the user enter another zip code and restart the loop\n",
    "        print(\"No listings found for that zip code, please enter a different one!\")\n",
    "\n",
    "    # If listings were found\n",
    "    else:\n",
    "        # Break the loop and continue\n",
    "        break"
   ]
  },
  {
   "cell_type": "markdown",
   "id": "73ff07a1-db9e-45d5-9840-5c2724ab39bc",
   "metadata": {},
   "source": [
    "## 11. Ask the User to Provide Any Filters for the Listings\n",
    "Create a dictionary of filters and ask the user to either provide a value for the filter or just press \"Enter\" to skip it."
   ]
  },
  {
   "cell_type": "code",
   "execution_count": 11,
   "id": "7768373f-3333-4bcb-85e5-5aa996b8cdef",
   "metadata": {},
   "outputs": [
    {
     "name": "stdin",
     "output_type": "stream",
     "text": [
      "Minimum price (press Enter to skip):  40000\n",
      "Maximum price (press Enter to skip):  350000\n",
      "Minimum number of bedrooms (press Enter to skip):  \n",
      "Maximum number of bedrooms (press Enter to skip):  3\n",
      "Minimum number of bathrooms (press Enter to skip):  \n",
      "Maximum number of bathrooms (press Enter to skip):  3\n",
      "Minimum square footage (press Enter to skip):  \n",
      "Maximum square footage (press Enter to skip):  \n"
     ]
    }
   ],
   "source": [
    "# Create an empty dictionary of filters\n",
    "filters = {}\n",
    "\n",
    "# Ask the user for filters on min/max price, min/max beds, min/max baths, and min/max square footage\n",
    "# and add those values to the filters dictionary as float data types\n",
    "filters[\"min_price\"] = input_with_type(\"Minimum price (press Enter to skip): \", float)\n",
    "filters[\"max_price\"] = input_with_type(\"Maximum price (press Enter to skip): \", float)\n",
    "filters[\"min_beds\"] = input_with_type(\"Minimum number of bedrooms (press Enter to skip): \", float)\n",
    "filters[\"max_beds\"] = input_with_type(\"Maximum number of bedrooms (press Enter to skip): \", float)\n",
    "filters[\"min_baths\"] = input_with_type(\"Minimum number of bathrooms (press Enter to skip): \", float)\n",
    "filters[\"max_baths\"] = input_with_type(\"Maximum number of bathrooms (press Enter to skip): \", float)\n",
    "filters[\"min_sqft\"] = input_with_type(\"Minimum square footage (press Enter to skip): \", float)\n",
    "filters[\"max_sqft\"] = input_with_type(\"Maximum square footage (press Enter to skip): \", float)\n",
    "\n",
    "# Filter the gathered listings based on the user input and save it to a new variable\n",
    "filtered_listings = filter_listings(listings, filters)"
   ]
  },
  {
   "cell_type": "markdown",
   "id": "53ecfb51-1cb4-474a-9d56-f2d22b08dd52",
   "metadata": {},
   "source": [
    "## 12. Print Out the Listings that were Found\n",
    "For each listing that exists after filtering (there could also be no listings), output the data to the user."
   ]
  },
  {
   "cell_type": "code",
   "execution_count": 12,
   "id": "80e2a482-4d15-46e8-863a-bd8c83db852a",
   "metadata": {},
   "outputs": [
    {
     "name": "stdout",
     "output_type": "stream",
     "text": [
      "Found 32 matching listing(s).\n",
      "\n",
      "\n",
      "{'listing_url': 'https://redfin.com/PA/Philadelphia/341-N-State-St-19104/home/38665125', 'price': 325000.0, 'address': '341 N State St, Philadelphia, PA 19104', 'num_beds': 2.0, 'num_baths': 1.0, 'square_footage': 1176.0, 'contact_info': '(215) 546-0550'}\n",
      "{'listing_url': 'https://redfin.com/PA/Philadelphia/4336-Parrish-St-19104/home/38188692', 'price': 180000.0, 'address': '4336 Parrish St, Philadelphia, PA 19104', 'num_beds': 3.0, 'num_baths': 1.0, 'square_footage': 1140.0, 'contact_info': '(215) 646-2900'}\n",
      "{'listing_url': 'https://redfin.com/PA/Philadelphia/4217-Chestnut-St-19104/unit-206/home/142996108', 'price': 329000.0, 'address': '4217 Chestnut St #206, Philadelphia, PA 19104', 'num_beds': 1.0, 'num_baths': 1.0, 'square_footage': 674.0, 'contact_info': '(888) 397-7352'}\n",
      "{'listing_url': 'https://redfin.com/PA/Philadelphia/706-N-Shedwick-St-19104/home/38669915', 'price': 139900.0, 'address': '706 N Shedwick St, Philadelphia, PA 19104', 'num_beds': 2.0, 'num_baths': 1.0, 'square_footage': 840.0, 'contact_info': '(215) 921-9053'}\n",
      "{'listing_url': 'https://redfin.com/PA/Philadelphia/3833-Wyalusing-Ave-19104/home/38673323', 'price': 95000.0, 'address': '3833 Wyalusing Ave, Philadelphia, PA 19104', 'num_beds': 3.0, 'num_baths': 1.0, 'square_footage': 1010.0, 'contact_info': '(610) 520-0100'}\n",
      "{'listing_url': 'https://redfin.com/PA/Philadelphia/3976-Wyalusing-Ave-19104/home/38673332', 'price': 150000.0, 'address': '3976 Wyalusing Ave, Philadelphia, PA 19104', 'num_beds': 3.0, 'num_baths': 1.0, 'square_footage': 876.0, 'contact_info': '(610) 679-9170'}\n",
      "{'listing_url': 'https://redfin.com/PA/Philadelphia/419-N-Budd-St-19104/home/38186723', 'price': 330000.0, 'address': '419 N Budd St, Philadelphia, PA 19104', 'num_beds': 3.0, 'num_baths': 2.5, 'square_footage': 1610.0, 'contact_info': '(267) 435-8015'}\n",
      "{'listing_url': 'https://redfin.com/PA/Philadelphia/3609-Wallace-St-19104/home/38667519', 'price': 225000.0, 'address': '3609 Wallace St, Philadelphia, PA 19104', 'num_beds': 2.0, 'num_baths': 1.5, 'square_footage': 990.0, 'contact_info': '(215) 608-5745'}\n",
      "{'listing_url': 'https://redfin.com/PA/Philadelphia/653-N-37th-St-19104/home/38667722', 'price': 329000.0, 'address': '653 N 37th St, Philadelphia, PA 19104', 'num_beds': 3.0, 'num_baths': 1.0, 'square_footage': 1170.0, 'contact_info': '(856) 321-1212'}\n",
      "{'listing_url': 'https://redfin.com/PA/Philadelphia/4050-Cambridge-St-19104/home/38192872', 'price': 94900.0, 'address': '4050 Cambridge St, Philadelphia, PA 19104', 'num_beds': 3.0, 'num_baths': 1.0, 'square_footage': 1140.0, 'contact_info': '(215) 400-2600'}\n",
      "{'listing_url': 'https://redfin.com/PA/Philadelphia/4310-Aspen-St-19104/home/38184023', 'price': 170000.0, 'address': '4310 Aspen St, Philadelphia, PA 19104', 'num_beds': 2.0, 'num_baths': 1.0, 'square_footage': 784.0, 'contact_info': '(888) 397-7352'}\n",
      "{'listing_url': 'https://redfin.com/PA/Philadelphia/818-N-42nd-St-19104/home/38195766', 'price': 150000.0, 'address': '818 N 42nd St, Philadelphia, PA 19104', 'num_beds': 3.0, 'num_baths': 1.0, 'square_footage': 784.0, 'contact_info': '(844) 837-5274'}\n",
      "{'listing_url': 'https://redfin.com/PA/Philadelphia/3513-Mount-Vernon-St-19104/home/38665059', 'price': 332900.0, 'address': '3513 Mount Vernon St, Philadelphia, PA 19104', 'num_beds': 3.0, 'num_baths': 1.5, 'square_footage': 1623.0, 'contact_info': '(610) 206-3955'}\n",
      "{'listing_url': 'https://redfin.com/PA/Philadelphia/855-N-Brooklyn-St-19104/home/38195691', 'price': 150000.0, 'address': '855 N Brooklyn St, Philadelphia, PA 19104', 'num_beds': 3.0, 'num_baths': 1.0, 'square_footage': 1076.0, 'contact_info': '(610) 520-0100'}\n",
      "{'listing_url': 'https://redfin.com/PA/Philadelphia/3308-Mantua-Ave-19104/unit-A/home/179016238', 'price': 349900.0, 'address': '3308 Mantua Unit A, Philadelphia, PA 19104', 'num_beds': 3.0, 'num_baths': 3.0, 'square_footage': 2208.0, 'contact_info': '(302) 299-1100'}\n",
      "{'listing_url': 'https://redfin.com/PA/Philadelphia/3818-Reno-St-19104/home/38670008', 'price': 165000.0, 'address': '3818 Reno St, Philadelphia, PA 19104', 'num_beds': 3.0, 'num_baths': 1.0, 'square_footage': 1008.0, 'contact_info': '(215) 627-3500'}\n",
      "{'listing_url': 'https://redfin.com/PA/Philadelphia/3833-Pennsgrove-St-19104/home/38669802', 'price': 180000.0, 'address': '3833 Pennsgrove St, Philadelphia, PA 19104', 'num_beds': 3.0, 'num_baths': 1.0, 'square_footage': 1035.0, 'contact_info': '(215) 627-3500'}\n",
      "{'listing_url': 'https://redfin.com/PA/Philadelphia/4254-Pennsgrove-St-19104/home/38190827', 'price': 189900.0, 'address': '4254 Pennsgrove St, Philadelphia, PA 19104', 'num_beds': 3.0, 'num_baths': 1.5, 'square_footage': 986.0, 'contact_info': '(717) 461-7201'}\n",
      "{'listing_url': 'https://redfin.com/PA/Philadelphia/3963-Brown-St-19104/home/38670002', 'price': 240000.0, 'address': '3963 Brown St, Philadelphia, PA 19104', 'num_beds': 3.0, 'num_baths': 2.0, 'square_footage': 1090.0, 'contact_info': '(610) 206-3955'}\n",
      "{'listing_url': 'https://redfin.com/PA/Philadelphia/3813-Reno-St-19104/home/39470327', 'price': 170000.0, 'address': '3813 Reno St, Philadelphia, PA 19104', 'num_beds': 3.0, 'num_baths': 1.0, 'square_footage': 975.0, 'contact_info': '(215) 607-3535'}\n",
      "{'listing_url': 'https://redfin.com/PA/Philadelphia/508-N-Budd-St-19104/home/38186742', 'price': 315000.0, 'address': '508 N Budd St, Philadelphia, PA 19104', 'num_beds': 2.0, 'num_baths': 1.0, 'square_footage': 700.0, 'contact_info': '(215) 627-3500'}\n",
      "{'listing_url': 'https://redfin.com/PA/Philadelphia/3205-Pearl-St-19104/home/38662490', 'price': 300000.0, 'address': '3205 Pearl St, Philadelphia, PA 19104', 'num_beds': 3.0, 'num_baths': 2.0, 'square_footage': 1026.0, 'contact_info': '(267) 435-8015'}\n",
      "{'listing_url': 'https://redfin.com/PA/Philadelphia/3203-Pearl-St-19104/home/38662489', 'price': 300000.0, 'address': '3203 Pearl St, Philadelphia, PA 19104', 'num_beds': 3.0, 'num_baths': 2.0, 'square_footage': 988.0, 'contact_info': '(267) 435-8015'}\n",
      "{'listing_url': 'https://redfin.com/PA/Philadelphia/4136-Cambridge-St-19104/home/38192882', 'price': 149900.0, 'address': '4136 Cambridge St, Philadelphia, PA 19104', 'num_beds': 3.0, 'num_baths': 2.0, 'square_footage': 1968.0, 'contact_info': '(302) 858-0159'}\n",
      "{'listing_url': 'https://redfin.com/PA/Philadelphia/851-N-43rd-St-19104/home/38195831', 'price': 149000.0, 'address': '851 N 43rd St, Philadelphia, PA 19104', 'num_beds': 2.0, 'num_baths': 1.0, 'square_footage': 1286.0, 'contact_info': '(215) 248-4400'}\n",
      "{'listing_url': 'https://redfin.com/PA/Philadelphia/4059-Filbert-St-19104/home/38181747', 'price': 259900.0, 'address': '4059 Filbert St, Philadelphia, PA 19104', 'num_beds': 3.0, 'num_baths': 2.0, 'square_footage': 890.0, 'contact_info': '(215) 218-0939'}\n",
      "{'listing_url': 'https://redfin.com/PA/Philadelphia/17-S-45th-St-19104/home/38743627', 'price': 289000.0, 'address': '17 S 45th St S, Philadelphia, PA 19104', 'num_beds': 2.0, 'num_baths': 2.0, 'square_footage': 900.0, 'contact_info': '(215) 646-2900'}\n",
      "{'listing_url': 'https://redfin.com/PA/Philadelphia/22-S-41st-St-19104/home/38738998', 'price': 325000.0, 'address': '22 S 41st St, Philadelphia, PA 19104', 'num_beds': 3.0, 'num_baths': 2.0, 'square_footage': 1548.0, 'contact_info': '(215) 980-8881'}\n",
      "{'listing_url': 'https://redfin.com/PA/Philadelphia/4217-Chestnut-St-19104/unit-306/home/143504562', 'price': 350000.0, 'address': '4217 Chestnut St #306, Philadelphia, PA 19104', 'num_beds': 1.0, 'num_baths': 1.0, 'square_footage': 674.0, 'contact_info': '(610) 822-3356'}\n",
      "{'listing_url': 'https://redfin.com/PA/Philadelphia/907-N-45th-St-19104/home/38195981', 'price': 110000.0, 'address': '907 N 45th St, Philadelphia, PA 19104', 'num_beds': 3.0, 'num_baths': 1.0, 'square_footage': 784.0, 'contact_info': '(215) 757-6100'}\n",
      "{'listing_url': 'https://redfin.com/PA/Philadelphia/631-N-35th-St-19104/home/38667763', 'price': 250000.0, 'address': '631 N 35th St, Philadelphia, PA 19104', 'num_beds': 3.0, 'num_baths': 2.0, 'square_footage': 1429.0, 'contact_info': '(215) 253-3439'}\n",
      "{'listing_url': 'https://redfin.com/PA/Philadelphia/3957-Wallace-St-19104/home/38669230', 'price': 225000.0, 'address': '3957 Wallace St, Philadelphia, PA 19104', 'num_beds': 3.0, 'num_baths': 2.0, 'square_footage': 1066.0, 'contact_info': '(610) 206-3955'}\n"
     ]
    }
   ],
   "source": [
    "# Tell the user how many listings were found\n",
    "print(f\"Found {len(filtered_listings)} matching listing(s).\\n\\n\")\n",
    "\n",
    "# Print each listing\n",
    "for item in filtered_listings:\n",
    "    print(item)"
   ]
  },
  {
   "cell_type": "markdown",
   "id": "f4e52fae-e7e8-4182-8b54-7b725e1ff6f0",
   "metadata": {},
   "source": [
    "## 13. Output the Listings to a File\n",
    "If the user has listings that they want to save to a file, they can do that here and choose either CSV or JSON format."
   ]
  },
  {
   "cell_type": "code",
   "execution_count": 13,
   "id": "051c7b57-3736-43f2-9d1c-9df32dc2e706",
   "metadata": {},
   "outputs": [
    {
     "name": "stdin",
     "output_type": "stream",
     "text": [
      "Save results to file? (csv/json/none):  csv\n"
     ]
    },
    {
     "name": "stdout",
     "output_type": "stream",
     "text": [
      "Saved to filtered_listings.csv\n"
     ]
    }
   ],
   "source": [
    "# After filtering, if there are any listings available\n",
    "if len(filtered_listings) > 0:\n",
    "    # Ask the user if they want to save the results as a CSV or JSON file\n",
    "    output_format = input(\"Save results to file? (csv/json/none): \").strip().lower()\n",
    "    # Save the output based on the user input\n",
    "    save_output(filtered_listings, output_format)"
   ]
  }
 ],
 "metadata": {
  "kernelspec": {
   "display_name": "Python 3 (ipykernel)",
   "language": "python",
   "name": "python3"
  },
  "language_info": {
   "codemirror_mode": {
    "name": "ipython",
    "version": 3
   },
   "file_extension": ".py",
   "mimetype": "text/x-python",
   "name": "python",
   "nbconvert_exporter": "python",
   "pygments_lexer": "ipython3",
   "version": "3.13.2"
  }
 },
 "nbformat": 4,
 "nbformat_minor": 5
}
